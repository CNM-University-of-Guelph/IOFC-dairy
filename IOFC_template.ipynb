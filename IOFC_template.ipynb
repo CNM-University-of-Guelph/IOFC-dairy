{
 "cells": [
  {
   "cell_type": "raw",
   "metadata": {},
   "source": [
    "---\n",
    "title: \"IOFC function templates\"\n",
    "author: \"Dave Innes\"\n",
    "format:\n",
    "  html:\n",
    "    embed-resources: true\n",
    "---"
   ]
  },
  {
   "cell_type": "markdown",
   "metadata": {},
   "source": [
    "Income over feed cost (IOFC) is calculated below using 2 methods:  \n",
    "\n",
    "1) manually entered values, typical of a whole-herd IOFC calculation (also see `IOFC calculator template.xlsx`)\n",
    "2) a function that uses the output from the `nasem_dairy` package which is useful for calculating IOFC from predicted values\n",
    "\n"
   ]
  },
  {
   "cell_type": "markdown",
   "metadata": {},
   "source": [
    "## Define revenue and ingredient prices\n",
    "Milk prices ($/kg) are based on a typical on-farm milk cheque, ignoring the bulk correction for SNF (solids not fat) to Fat ratio which isn't possible for individual cows. \n",
    "The `milk_prices` dict also has `milk_other_solids_production_perc` which is typically fixed and not a value calculated by the model. The value of this component of the milk is `other_solids_dollar_kg`. The % of fat and protein are taken from the ModelOutput object returned by `nd.execute_model()`.\n",
    "\n",
    "Ingredient prices are $/as-fed tonne (i.e. not on DM basis)."
   ]
  },
  {
   "cell_type": "code",
   "execution_count": 1,
   "metadata": {},
   "outputs": [],
   "source": [
    "import pandas as pd"
   ]
  },
  {
   "cell_type": "code",
   "execution_count": 2,
   "metadata": {},
   "outputs": [],
   "source": [
    "milk_prices = {\n",
    "    'milk_other_solids_production_perc' : 5.7, #mostly lactose (4.7%) and minerals (1%)\n",
    "    'milk_fat_dollar_kg' : 13.3,\n",
    "    'milk_protein_dollar_kg' : 10.96,\n",
    "    'other_solids_dollar_kg' : 0.9,\n",
    "    \n",
    "}\n",
    "\n",
    "\n",
    "# $/tonne\n",
    "ingredient_prices_asfed_tonne = {\n",
    "    'Wheat straw, Elora': 200,  \n",
    "    'Alfalfa Silage': 230,  \n",
    "    'Corn silage, Elora': 180,  \n",
    "    'Corn Grain HM': 250,  \n",
    "    'Soy Plus': 700,  \n",
    "    'Soybean meal 47%': 600, \n",
    "    'Canola': 600,  \n",
    "    'Wheat Shorts': 250,  \n",
    "    'Tallow': 500,  \n",
    "    'Sodium chloride (salt)': 1000,  \n",
    "    'Limestone calcium carbonate': 1000,  \n",
    "    'Monocalcium phosphate(Dical)': 1000,  \n",
    "    'Magnesium oxide, Elora': 1000,  \n",
    "    'Diamond V yeast': 2000,  \n",
    "    'DCAD+ (Potassium carbonate)': 1000,  \n",
    "    'Metasmart': 2000,\n",
    "    'Vitamin/mineral mix': 2000\n",
    "}"
   ]
  },
  {
   "cell_type": "markdown",
   "metadata": {},
   "source": [
    "## 1. Manual IOFC\n",
    "This code does the same as `IOFC calculator template.xlsx`.\n",
    "\n",
    "This also requires an additional dictionary to define the milk components and ration, as the model output is not used in this case."
   ]
  },
  {
   "cell_type": "code",
   "execution_count": 3,
   "metadata": {},
   "outputs": [],
   "source": [
    "# Note that the 'milk_other_solids_production_perc' is already in milk_prices\n",
    "milk_components = {\n",
    "   'MY_kg_d' : 31,\n",
    "   'Milk_Fat_perc' : 3.6,\n",
    "   'Milk_TProt_perc' : 3.3,\n",
    "}\n",
    "\n",
    "\n",
    "# Define the data as a list of dictionaries\n",
    "ration_list = [\n",
    "    {\"Ingredient\": \"Wheat straw, Elora\",   \"kg_inclusion\": 0.5,  \"DM_perc\": 90},\n",
    "    {\"Ingredient\": \"Alfalfa Silage\",       \"kg_inclusion\": 8.2,  \"DM_perc\": 35},\n",
    "    {\"Ingredient\": \"Corn silage, Elora\",   \"kg_inclusion\": 8.2,  \"DM_perc\": 33},\n",
    "    {\"Ingredient\": \"Corn Grain HM\",        \"kg_inclusion\": 3.7,  \"DM_perc\": 87},\n",
    "    {\"Ingredient\": \"Soybean meal 47%\",     \"kg_inclusion\": 2.0,  \"DM_perc\": 88},\n",
    "    {\"Ingredient\": \"Canola\",               \"kg_inclusion\": 1.0,  \"DM_perc\": 91},\n",
    "    {\"Ingredient\": \"Vitamin/mineral mix\",  \"kg_inclusion\": 0.2,  \"DM_perc\": 100}\n",
    "]\n",
    "\n",
    "# Convert to a DataFrame\n",
    "ration_df = pd.DataFrame(ration_list)"
   ]
  },
  {
   "cell_type": "markdown",
   "metadata": {},
   "source": [
    "### Create function"
   ]
  },
  {
   "cell_type": "code",
   "execution_count": 4,
   "metadata": {},
   "outputs": [],
   "source": [
    "def calc_IOFC_manual(\n",
    "        milk_prices: dict,\n",
    "        milk_components: dict,\n",
    "        ingredient_prices: dict, # must contain matches to all feedstuffs in ration\n",
    "        ration_df: pd.DataFrame,\n",
    "        verbose: bool = False\n",
    "        ) -> float:\n",
    "    \"\"\"\n",
    "    Calculate Income Over Feed Cost (IOFC)\n",
    "\n",
    "    The basic calculation is `milk revenue - feed cost` per cow per day. \n",
    "    Milk revenue is based on price paid for milk fat, true protein and other \n",
    "    solids. Each of these components is provided to the function as a %, and are\n",
    "    multiplied by the provided milk yield (kg/d) to get component yields (kg/d).\n",
    "    A ration is also provided as a dataframe with kg_inclusion (kg/d)\n",
    "    and DM_perc (dry matter %) for each ingredient. These are required so that \n",
    "    the ingredient prices (as-fed) can be calculated on a DM basis.\n",
    "\n",
    "\n",
    "    Parameters\n",
    "    ----------\n",
    "    milk_prices : dict\n",
    "        prices in $/kg. Also includes `milk_other_solids_production_perc` which \n",
    "        is typically fixed 5.7% (4.7% lactose and 1% minerals)\n",
    "    \n",
    "    milk_components: dict\n",
    "        A dictionary with milk yield (kg/d), milk fat (%), and true protein (%)\n",
    "    \n",
    "    ingredient_prices : dict\n",
    "        prices in $/tonne. Any ingredients can be included in this dict but only\n",
    "         those that match an ingredient in `ration_df` will be used.\n",
    "\n",
    "    ration_df: pd.DataFrame\n",
    "        A dataframe with 3 columns: Ingredient, kg_inclusion, DM_perc which\n",
    "        represents the diet being fed on a DM basis. The sum of kg_inclusion should\n",
    "        match their expected DM intake. DM_perc is used to adjust ingredient_prices.\n",
    "\n",
    "    verbose: bool\n",
    "        If True - intermediate calculations are printed to console. Default is False.\n",
    "\n",
    "\n",
    "    Returns\n",
    "    -------\n",
    "    float\n",
    "        A single value for IOFC in $/cow/day\n",
    "    \"\"\"    \n",
    "    ###########################\n",
    "    # Input validation\n",
    "    ###########################\n",
    "    # Check ration_df ingredients have matching price\n",
    "    ingredient_validation = ration_df['Ingredient'].apply(lambda x: x in ingredient_prices_asfed_tonne)\n",
    "\n",
    "    if not ingredient_validation.all():\n",
    "        unmatched_ingredients = ration_df[~ingredient_validation]['Ingredient'].tolist()\n",
    "        raise ValueError(f\"The following ingredients do not have a match in the price list: {unmatched_ingredients}\")\n",
    "\n",
    "    \n",
    "    ###########################\n",
    "    # Component Production kg/d\n",
    "    ###########################\n",
    "    MY_kg_d = milk_components['MY_kg_d']\n",
    "\n",
    "    milk_fat_kg_d = milk_components['Milk_Fat_perc']/100 * MY_kg_d\n",
    "    milk_TP_kg_d = milk_components['Milk_TProt_perc']/100 * MY_kg_d\n",
    "    milk_other_kg_d = milk_prices['milk_other_solids_production_perc']/100 * MY_kg_d \n",
    "  \n",
    "    if verbose:\n",
    "        print(f\"Milk Fat kg/d = {round(milk_fat_kg_d, 2)}, \"\n",
    "              f\"True Protein kg/d = {round(milk_TP_kg_d, 2)}, \"\n",
    "              f\"Other Solids kg/d = {round(milk_other_kg_d, 2)}.\\n\")\n",
    "\n",
    "    ###########################\n",
    "    # Revenue $/d\n",
    "    ###########################\n",
    "    milk_fat_dollar_d = milk_fat_kg_d * milk_prices['milk_fat_dollar_kg']\n",
    "    milk_protein_dollar_d = milk_TP_kg_d * milk_prices['milk_protein_dollar_kg']\n",
    "    milk_other_dollar_d = milk_other_kg_d * milk_prices['other_solids_dollar_kg']\n",
    "\n",
    "    revenue_dollar_per_d = (\n",
    "        milk_fat_dollar_d + \n",
    "        milk_protein_dollar_d + \n",
    "        milk_other_dollar_d)\n",
    "\n",
    "    if verbose:\n",
    "        print(f\"Milk Fat dollar/d = {round(milk_fat_dollar_d,2)}, \"\n",
    "              f\"True Protein dollar/d = {round(milk_protein_dollar_d,2)}, \" \n",
    "              f\"Other Solids dollar/d = {round(milk_other_dollar_d,2)}\\n\")\n",
    "        print(f\"Revenue $/d = {round(revenue_dollar_per_d,2)}\\n\")\n",
    "\n",
    "    ###########################\n",
    "    # Feed Costs\n",
    "    ###########################\n",
    "    \n",
    "    # calculate daily costs ($/d) for each ingredient\n",
    "    ration_df = ration_df.assign(\n",
    "        price_asfed_t = lambda df: df['Ingredient'].map(ingredient_prices),\n",
    "        price_DM_t = lambda df: df['price_asfed_t'] / df['DM_perc'] * 100,\n",
    "        price_DM_kg = lambda df: df['price_DM_t'] / 1000,\n",
    "        daily_cost = lambda df: df['kg_inclusion'] * df['price_DM_kg']\n",
    "    )\n",
    "    \n",
    "    diet_cost_p_d = ration_df['daily_cost'].sum()\n",
    "\n",
    "    if verbose:\n",
    "        print(ration_df)\n",
    "        print(f\"\\nDiet cost ($/d) = {round(diet_cost_p_d,2)}\\n\")\n",
    "\n",
    "    ###########################\n",
    "    # IOFC\n",
    "    ###########################\n",
    "    IOFC = revenue_dollar_per_d - diet_cost_p_d\n",
    "\n",
    "    if verbose:\n",
    "        print(f\"IOFC ($/d) = {round(IOFC,2)}\")\n",
    "\n",
    "    return IOFC\n"
   ]
  },
  {
   "cell_type": "markdown",
   "metadata": {},
   "source": [
    "### Execute function\n",
    "Run model with verbose = True will print out all intermediate calculations."
   ]
  },
  {
   "cell_type": "code",
   "execution_count": 5,
   "metadata": {},
   "outputs": [
    {
     "name": "stdout",
     "output_type": "stream",
     "text": [
      "Milk Fat kg/d = 1.12, True Protein kg/d = 1.02, Other Solids kg/d = 1.77.\n",
      "\n",
      "Milk Fat dollar/d = 14.84, True Protein dollar/d = 11.21, Other Solids dollar/d = 1.59\n",
      "\n",
      "Revenue $/d = 27.65\n",
      "\n",
      "            Ingredient  kg_inclusion  DM_perc  price_asfed_t   price_DM_t  \\\n",
      "0   Wheat straw, Elora           0.5       90            200   222.222222   \n",
      "1       Alfalfa Silage           8.2       35            230   657.142857   \n",
      "2   Corn silage, Elora           8.2       33            180   545.454545   \n",
      "3        Corn Grain HM           3.7       87            250   287.356322   \n",
      "4     Soybean meal 47%           2.0       88            600   681.818182   \n",
      "5               Canola           1.0       91            600   659.340659   \n",
      "6  Vitamin/mineral mix           0.2      100           2000  2000.000000   \n",
      "\n",
      "   price_DM_kg  daily_cost  \n",
      "0     0.222222    0.111111  \n",
      "1     0.657143    5.388571  \n",
      "2     0.545455    4.472727  \n",
      "3     0.287356    1.063218  \n",
      "4     0.681818    1.363636  \n",
      "5     0.659341    0.659341  \n",
      "6     2.000000    0.400000  \n",
      "\n",
      "Diet cost ($/d) = 13.46\n",
      "\n",
      "IOFC ($/d) = 14.19\n"
     ]
    },
    {
     "data": {
      "text/plain": [
       "14.186574773808571"
      ]
     },
     "execution_count": 5,
     "metadata": {},
     "output_type": "execute_result"
    }
   ],
   "source": [
    "calc_IOFC_manual(\n",
    "        milk_prices = milk_prices,\n",
    "        milk_components = milk_components,\n",
    "        ingredient_prices = ingredient_prices_asfed_tonne,\n",
    "        ration_df = ration_df,\n",
    "        verbose = True\n",
    "        )"
   ]
  },
  {
   "cell_type": "code",
   "execution_count": 6,
   "metadata": {},
   "outputs": [
    {
     "data": {
      "text/plain": [
       "14.186574773808571"
      ]
     },
     "execution_count": 6,
     "metadata": {},
     "output_type": "execute_result"
    }
   ],
   "source": [
    "# verbose = False\n",
    "calc_IOFC_manual(\n",
    "        milk_prices = milk_prices,\n",
    "        milk_components = milk_components,\n",
    "        ingredient_prices = ingredient_prices_asfed_tonne,\n",
    "        ration_df = ration_df,\n",
    "        verbose = False\n",
    "        )"
   ]
  },
  {
   "cell_type": "code",
   "execution_count": 7,
   "metadata": {},
   "outputs": [
    {
     "data": {
      "text/plain": [
       "23.799999999999997"
      ]
     },
     "execution_count": 7,
     "metadata": {},
     "output_type": "execute_result"
    }
   ],
   "source": [
    "ration_df['kg_inclusion'].sum()"
   ]
  },
  {
   "cell_type": "markdown",
   "metadata": {},
   "source": [
    "## 2. IOFC using nasem_dairy (nd) package\n",
    "In this function the fat and protein % are taken from the ModelOutput object returned by `nd.execute_model()`."
   ]
  },
  {
   "cell_type": "code",
   "execution_count": 8,
   "metadata": {},
   "outputs": [],
   "source": [
    "import nasem_dairy as nd\n",
    "import pandas as pd"
   ]
  },
  {
   "cell_type": "markdown",
   "metadata": {},
   "source": [
    "### Define function"
   ]
  },
  {
   "cell_type": "code",
   "execution_count": 9,
   "metadata": {},
   "outputs": [],
   "source": [
    "\n",
    "def calc_IOFC_nd(\n",
    "        milk_prices: dict,\n",
    "        ingredient_prices: dict, # must contain matches to all feedstuffs in user_diet\n",
    "        mod_output: nd.ModelOutput\n",
    "        ) -> float:\n",
    "    \"\"\"\n",
    "    Calculate Income Over Feed Cost (IOFC) from nasem_dairy output.\n",
    "\n",
    "    The basic calculation is `milk revenue - feed cost` per cow per day. \n",
    "    Milk revenue is based on milk component pricing, with `Mlk_Fat_g` and \n",
    "    `Mlk_NP_g` returned from `nasem_dairy` package (i.e `nd`) representing milk \n",
    "    fat and protein, respectively. These could be 'target' values that are entered\n",
    "    by the user, or they could be 'predicted' values based on the model. The user\n",
    "    must decide to use either target or prediction equations when executing `nd`.\n",
    "\n",
    "    Parameters\n",
    "    ----------\n",
    "    milk_prices : dict\n",
    "        prices in $/kg. Also includes `milk_other_solids_production_perc` which \n",
    "        is typically fixed 5.7% (4.7% lactose and 1% minerals)\n",
    "    ingredient_prices : dict\n",
    "        prices in $/tonne. Ingredients in this dict should match all ingredients \n",
    "        used in the `user_diet` when running `nd.execute_model()` to get `mod_output`.\n",
    "    mod_output: nd.ModelOutput\n",
    "        An object that is returned by `nd.execute_model()`\n",
    "\n",
    "    Returns\n",
    "    -------\n",
    "    float\n",
    "        A single value for IOFC in $/cow/day\n",
    "    \"\"\"    \n",
    "    \n",
    "  \n",
    "    ##########\n",
    "    # Revenue\n",
    "    ##########\n",
    "    milk_fat_price_p_d = (mod_output.get_value('Mlk_Fat_g')/1000 * \n",
    "                          milk_prices['milk_fat_dollar_kg'])\n",
    "    \n",
    "    # assume it is True Protein (not Crude Protein)\n",
    "    milk_protein_price_p_d = (mod_output.get_value('Mlk_NP_g')/1000 * \n",
    "                              milk_prices['milk_protein_dollar_kg'])\n",
    "\n",
    "    # calculated from a fixed % of milk yield\n",
    "    MY_kg_d = mod_output.get_value('Mlk_Prod')\n",
    "\n",
    "    milk_other_solids_price_p_d = (\n",
    "        milk_prices['milk_other_solids_production_perc']/100 *\n",
    "        MY_kg_d * \n",
    "        milk_prices['other_solids_dollar_kg'])\n",
    "\n",
    "    revenue_dollar_per_d = (\n",
    "        milk_fat_price_p_d + \n",
    "        milk_protein_price_p_d + \n",
    "        milk_other_solids_price_p_d)\n",
    "\n",
    "\n",
    "    #############\n",
    "    # Feed Costs\n",
    "    #############\n",
    "\n",
    "    # get diet info from output: \n",
    "    diet_sub = (mod_output\n",
    "                .Intakes['diet_info']\n",
    "                .filter(['Feedstuff', 'Fd_DMInp', 'Fd_DM', 'Fd_DMIn'])\n",
    "                .assign(\n",
    "                    dollar_t_as_fed = lambda df: df['Feedstuff'].map(ingredient_prices),\n",
    "                    dollar_t_DM = lambda df: df['dollar_t_as_fed'] / df['Fd_DM']*100,\n",
    "                    dollar_fed_p_d = lambda df: df['dollar_t_DM']/1000 * df['Fd_DMIn'])\n",
    "                )\n",
    "    \n",
    "    diet_cost_p_d = diet_sub['dollar_fed_p_d'].sum()\n",
    "\n",
    "\n",
    "    #############\n",
    "    # IOFC\n",
    "    #############\n",
    "    IOFC = revenue_dollar_per_d - diet_cost_p_d\n",
    "\n",
    "    return IOFC\n",
    "\n"
   ]
  },
  {
   "cell_type": "markdown",
   "metadata": {},
   "source": [
    "### Prepare data for nasem_dairy"
   ]
  },
  {
   "cell_type": "code",
   "execution_count": 10,
   "metadata": {},
   "outputs": [],
   "source": [
    "# Diet\n",
    "diet_info = pd.DataFrame([\n",
    "    {\"Feedstuff\": \"Wheat straw\",   \"kg_user\": 0.5},\n",
    "    {\"Feedstuff\": \"Alfalfa Silage\",       \"kg_user\": 8.2},\n",
    "    {\"Feedstuff\": \"Corn silage\",   \"kg_user\": 8.2},\n",
    "    {\"Feedstuff\": \"Corn Grain HM\",        \"kg_user\": 3.7},\n",
    "    {\"Feedstuff\": \"Soybean meal 47%\",     \"kg_user\": 2.0},\n",
    "    {\"Feedstuff\": \"Canola\",               \"kg_user\": 1.0},\n",
    "    {\"Feedstuff\": \"Vitamin/mineral mix\",  \"kg_user\": 0.2}\n",
    "])\n",
    "\n",
    "# Animal Inputs\n",
    "animal_inputs = {\n",
    "    'An_Parity_rl': 1.33,\n",
    "    'Trg_MilkProd': 25.062,\n",
    "    'An_BW': 624.795,\n",
    "    'An_BCS': 3.2,\n",
    "    'An_LactDay': 170.0,\n",
    "    'Trg_MilkFatp': 4.55,\n",
    "    'Trg_MilkTPp': 3.66,\n",
    "    'Trg_MilkLacp': 4.85,\n",
    "    'DMI': 24.0,\n",
    "    'An_BW_mature': 700.0,\n",
    "    'Trg_FrmGain': 0,\n",
    "    'An_GestDay': 46.0,\n",
    "    'An_GestLength': 280.0,\n",
    "    'Trg_RsrvGain': 0.0,\n",
    "    'Fet_BWbrth': 44.1,\n",
    "    'An_AgeDay': 820.8,\n",
    "    'An_305RHA_MlkTP': 280.0,\n",
    "    'An_StatePhys': 'Lactating Cow',\n",
    "    'An_Breed': 'Holstein',\n",
    "    'An_AgeDryFdStart': 14.0,\n",
    "    'Env_TempCurr': 22.0,\n",
    "    'Env_DistParlor': 0.0,\n",
    "    'Env_TripsParlor': 0.0,\n",
    "    'Env_Topo': 0.0}\n",
    "\n",
    "# Model equations - these are currently 'predictive' eqns\n",
    "equation_selection = {\n",
    "            'Use_DNDF_IV': 0.0,\n",
    "            'DMIn_eqn': 8, # 8 = predicted, 0 = Target (9 should be an option too when package fixed)\n",
    "            'mProd_eqn': 1, # 1 = predicted, 0 = Target\n",
    "            'MiN_eqn': 1.0,\n",
    "            'use_infusions': 0.0,\n",
    "            'NonMilkCP_ClfLiq': 0.0,\n",
    "            'Monensin_eqn': 0.0,\n",
    "            'mPrt_eqn': 0.0, # always predicted - until updated\n",
    "            'mFat_eqn': 1,  # 1 = predicted, 0 = Target\n",
    "            'RumDevDisc_Clf': 0.0}\n",
    "\n",
    "\n",
    "\n"
   ]
  },
  {
   "cell_type": "markdown",
   "metadata": {},
   "source": [
    "Import feed library (with missing column; see [Issue #82](https://github.com/CNM-University-of-Guelph-dev/NASEM-Model-Python/issues/82))"
   ]
  },
  {
   "cell_type": "code",
   "execution_count": 11,
   "metadata": {},
   "outputs": [],
   "source": [
    "feed_library_in = pd.read_csv( \"./template_feed_library.csv\").assign(Fd_DNDF48 = 0.0)"
   ]
  },
  {
   "cell_type": "markdown",
   "metadata": {},
   "source": [
    "### Execute `nd.execute_model()`\n",
    "There may still be some warnings appear, but output will be stored in `NASEM_output`"
   ]
  },
  {
   "cell_type": "code",
   "execution_count": 18,
   "metadata": {},
   "outputs": [
    {
     "name": "stdout",
     "output_type": "stream",
     "text": [
      "=====================\n",
      "Model Output Snapshot\n",
      "=====================\n",
      "Milk production kg (Mlk_Prod_comp): 29.741\n",
      "Milk fat g/g (MlkFat_Milk): 0.036\n",
      "Milk protein g/g (MlkNP_Milk): 0.033\n",
      "Milk Production - MP allowable kg (Mlk_Prod_MPalow): 26.635\n",
      "Milk Production - NE allowable kg (Mlk_Prod_NEalow): 32.793\n",
      "Animal ME intake Mcal/d (An_MEIn): 60.149\n",
      "Target ME use Mcal/d (Trg_MEuse): 50.446\n",
      "Animal MP intake g/d (An_MPIn_g): 1994.16\n",
      "Animal MP use g/d (An_MPuse_g_Trg): 1910.743\n",
      "Animal RDP intake g/d (An_RDPIn_g): 2381.933\n",
      "Diet DCAD meq (An_DCADmeq): 221.438\n",
      "\n",
      "This is a `ModelOutput` object with methods to access all model outputs. See help(ModelOutput).\n"
     ]
    }
   ],
   "source": [
    "NASEM_output = nd.execute_model(\n",
    "    user_diet = diet_info, \n",
    "    animal_input = animal_inputs, \n",
    "    equation_selection = equation_selection, \n",
    "    feed_library_df = feed_library_in) \n",
    "\n",
    "# Note: call NASEM_output without print() in .ipynb to see a more useful output.\n",
    "# NASEM_output\n",
    "print(NASEM_output)"
   ]
  },
  {
   "cell_type": "markdown",
   "metadata": {},
   "source": [
    "### Calculate IOFC\n",
    "This uses the prices defined at top of this file and the `NASEM_output` object calculated above"
   ]
  },
  {
   "cell_type": "code",
   "execution_count": 15,
   "metadata": {},
   "outputs": [
    {
     "data": {
      "text/plain": [
       "19.119754582521328"
      ]
     },
     "execution_count": 15,
     "metadata": {},
     "output_type": "execute_result"
    }
   ],
   "source": [
    "IOFC = calc_IOFC_nd(milk_prices, ingredient_prices_asfed_tonne, NASEM_output)\n",
    "\n",
    "# print IOFC in $/d\n",
    "IOFC"
   ]
  }
 ],
 "metadata": {
  "kernelspec": {
   "display_name": "NASEM_model_poetry",
   "language": "python",
   "name": "python3"
  },
  "language_info": {
   "codemirror_mode": {
    "name": "ipython",
    "version": 3
   },
   "file_extension": ".py",
   "mimetype": "text/x-python",
   "name": "python",
   "nbconvert_exporter": "python",
   "pygments_lexer": "ipython3",
   "version": "3.12.0"
  }
 },
 "nbformat": 4,
 "nbformat_minor": 2
}
